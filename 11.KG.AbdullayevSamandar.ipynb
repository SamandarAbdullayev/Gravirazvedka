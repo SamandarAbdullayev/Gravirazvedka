{
  "metadata": {
    "kernelspec": {
      "name": "python",
      "display_name": "Python (Pyodide)",
      "language": "python"
    },
    "language_info": {
      "codemirror_mode": {
        "name": "python",
        "version": 3
      },
      "file_extension": ".py",
      "mimetype": "text/x-python",
      "name": "python",
      "nbconvert_exporter": "python",
      "pygments_lexer": "ipython3",
      "version": "3.8"
    }
  },
  "nbformat_minor": 4,
  "nbformat": 4,
  "cells": [
    {
      "cell_type": "code",
      "source": "import numpy as np\nimport matplotlib.pyplot as plt\nfrom mpl_toolkits.mplot3d import Axes3D\nimport pandas as pd\nimport plotly.graph_objects as go\nimport matplotlib.animation as animation\n\n# 1. Sun'iy geofizik ma'lumotlar yaratish (gravimetrik va magnitometrik)\nx = np.linspace(0, 100, 100)  # Kon hududi bo'ylab o'q\ny = np.linspace(0, 100, 100)\nX, Y = np.meshgrid(x, y)\n\n# Gravimetrik va magnitometrik ma'lumotlar (anomaliyalar)\nZ_gravity = np.sin(X/10) * np.cos(Y/10)  # Gravimetrik anomaliya\nZ_magnet = np.cos(X/5) * np.sin(Y/5)  # Magnitometrik anomaliya\n\n# 2. Geofizik ma'lumotlarni 2D formatda ko'rsatish\nplt.figure(figsize=(10, 6))\n\n# Gravimetrik anomaliyani 2D ko'rinishda tasvirlash\nplt.subplot(1, 2, 1)\nplt.contourf(X, Y, Z_gravity, 20, cmap='RdGy')\nplt.title(\"Gravimetrik Anomaliya\")\nplt.xlabel(\"X\")\nplt.ylabel(\"Y\")\nplt.colorbar(label='Gravimetrik Kuch')\n\n# Magnitometrik anomaliyani 2D ko'rinishda tasvirlash\nplt.subplot(1, 2, 2)\nplt.contourf(X, Y, Z_magnet, 20, cmap='jet')\nplt.title(\"Magnitometrik Anomaliya\")\nplt.xlabel(\"X\")\nplt.ylabel(\"Y\")\nplt.colorbar(label='Magnitometrik Kuch')\n\nplt.tight_layout()\nplt.show()\n\n# 3. Geofizik ma'lumotlarni 3D ko'rinishda tasvirlash\nfig = plt.figure(figsize=(10, 8))\nax = fig.add_subplot(111, projection='3d')\n\n# Gravimetrik anomaliyaning 3D tasviri\nax.plot_surface(X, Y, Z_gravity, cmap='RdGy')\nax.set_title(\"Gravimetrik Anomaliya (3D)\")\nax.set_xlabel(\"X\")\nax.set_ylabel(\"Y\")\nax.set_zlabel(\"Z (Gravimetrik Kuch)\")\nplt.show()\n\n# 4. Magnitometrik anomaliyaning 3D tasviri\nfig = plt.figure(figsize=(10, 8))\nax = fig.add_subplot(111, projection='3d')\n\nax.plot_surface(X, Y, Z_magnet, cmap='jet')\nax.set_title(\"Magnitometrik Anomaliya (3D)\")\nax.set_xlabel(\"X\")\nax.set_ylabel(\"Y\")\nax.set_zlabel(\"Z (Magnitometrik Kuch)\")\nplt.show()\n\n# 5. Aniqlangan anomaliya zonalarini tahlil qilish\n# Gravimetrik anomaliya bo'yicha maksimal o'zgarishlarni aniqlaymiz\ngravity_threshold = np.percentile(Z_gravity, 90)  # 90% dan yuqori anomaliyalari\n\n# Anomaliyalari yuqori joylarni topamiz\ngravity_anomalies = np.where(Z_gravity > gravity_threshold)\n\n# Anomaliyaning joylashuvini ko'rsatish\nplt.figure(figsize=(10, 6))\nplt.contourf(X, Y, Z_gravity, 20, cmap='RdGy')\nplt.scatter(X[gravity_anomalies], Y[gravity_anomalies], color='r', label=\"Foydali qazilmalar\")\nplt.title(\"Gravimetrik Anomaliyalar va Foydali Qazilmalar Zonasi\")\nplt.xlabel(\"X\")\nplt.ylabel(\"Y\")\nplt.legend()\nplt.colorbar(label='Gravimetrik Kuch')\nplt.show()\n\n# 6. Magnitometrik anomaliyaning yuqori qiymatlari\nmagnet_threshold = np.percentile(Z_magnet, 90)  # 90% dan yuqori anomaliyalari\n\n# Anomaliyalari yuqori joylarni topamiz\nmagnet_anomalies = np.where(Z_magnet > magnet_threshold)\n\n# Anomaliyaning joylashuvini ko'rsatish\nplt.figure(figsize=(10, 6))\nplt.contourf(X, Y, Z_magnet, 20, cmap='jet')\nplt.scatter(X[magnet_anomalies], Y[magnet_anomalies], color='b', label=\"Foydali qazilmalar\")\nplt.title(\"Magnitometrik Anomaliyalar va Foydali Qazilmalar Zonasi\")\nplt.xlabel(\"X\")\nplt.ylabel(\"Y\")\nplt.legend()\nplt.colorbar(label='Magnitometrik Kuch')\nplt.show()\n\n# 7. Animatsiya yaratish (Gravimetrik anomaliyaning vaqt o'zgarishi)\nfig, ax = plt.subplots(figsize=(10, 6))\n\n# Animatsiya uchun dinamik ma'lumotlar yaratish\ndef animate(i):\n    ax.clear()\n    Z_gravity_dynamic = np.sin((X + i)/10) * np.cos(Y/10)\n    ax.contourf(X, Y, Z_gravity_dynamic, 20, cmap='RdGy')\n    ax.set_title(f\"Gravimetrik Anomaliya - Vaqt: {i}\")\n    ax.set_xlabel(\"X\")\n    ax.set_ylabel(\"Y\")\n    ax.set_xlim(0, 100)\n    ax.set_ylim(0, 100)\n    ax.set_aspect('auto')\n    return ax\n\n# Animatsiya funksiyasi\nani = animation.FuncAnimation(fig, animate, frames=100, interval=100)\nplt.show()\n",
      "metadata": {
        "trusted": true
      },
      "outputs": [
        {
          "name": "stderr",
          "text": "<ipython-input-1-aa28fe2786cf>:4: DeprecationWarning: \nPyarrow will become a required dependency of pandas in the next major release of pandas (pandas 3.0),\n(to allow more performant data types, such as the Arrow string type, and better interoperability with other libraries)\nbut was not found to be installed on your system.\nIf this would cause problems for you,\nplease provide us feedback at https://github.com/pandas-dev/pandas/issues/54466\n        \n  import pandas as pd\n",
          "output_type": "stream"
        },
        {
          "ename": "<class 'ModuleNotFoundError'>",
          "evalue": "No module named 'plotly'",
          "traceback": [
            "\u001b[0;31m---------------------------------------------------------------------------\u001b[0m",
            "\u001b[0;31mModuleNotFoundError\u001b[0m                       Traceback (most recent call last)",
            "Cell \u001b[0;32mIn[1], line 5\u001b[0m\n\u001b[1;32m      3\u001b[0m \u001b[38;5;28;01mfrom\u001b[39;00m \u001b[38;5;21;01mmpl_toolkits\u001b[39;00m\u001b[38;5;21;01m.\u001b[39;00m\u001b[38;5;21;01mmplot3d\u001b[39;00m \u001b[38;5;28;01mimport\u001b[39;00m Axes3D\n\u001b[1;32m      4\u001b[0m \u001b[38;5;28;01mimport\u001b[39;00m \u001b[38;5;21;01mpandas\u001b[39;00m \u001b[38;5;28;01mas\u001b[39;00m \u001b[38;5;21;01mpd\u001b[39;00m\n\u001b[0;32m----> 5\u001b[0m \u001b[38;5;28;01mimport\u001b[39;00m \u001b[38;5;21;01mplotly\u001b[39;00m\u001b[38;5;21;01m.\u001b[39;00m\u001b[38;5;21;01mgraph_objects\u001b[39;00m \u001b[38;5;28;01mas\u001b[39;00m \u001b[38;5;21;01mgo\u001b[39;00m\n\u001b[1;32m      6\u001b[0m \u001b[38;5;28;01mimport\u001b[39;00m \u001b[38;5;21;01mmatplotlib\u001b[39;00m\u001b[38;5;21;01m.\u001b[39;00m\u001b[38;5;21;01manimation\u001b[39;00m \u001b[38;5;28;01mas\u001b[39;00m \u001b[38;5;21;01manimation\u001b[39;00m\n\u001b[1;32m      8\u001b[0m \u001b[38;5;66;03m# 1. Sun'iy geofizik ma'lumotlar yaratish (gravimetrik va magnitometrik)\u001b[39;00m\n",
            "\u001b[0;31mModuleNotFoundError\u001b[0m: No module named 'plotly'"
          ],
          "output_type": "error"
        }
      ],
      "execution_count": 1
    },
    {
      "cell_type": "code",
      "source": "",
      "metadata": {
        "trusted": true
      },
      "outputs": [],
      "execution_count": null
    }
  ]
}