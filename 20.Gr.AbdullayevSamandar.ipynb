{
  "metadata": {
    "kernelspec": {
      "name": "python",
      "display_name": "Python (Pyodide)",
      "language": "python"
    },
    "language_info": {
      "codemirror_mode": {
        "name": "python",
        "version": 3
      },
      "file_extension": ".py",
      "mimetype": "text/x-python",
      "name": "python",
      "nbconvert_exporter": "python",
      "pygments_lexer": "ipython3",
      "version": "3.8"
    }
  },
  "nbformat_minor": 4,
  "nbformat": 4,
  "cells": [
    {
      "cell_type": "code",
      "source": "# Kerakli kutubxonalarni import qilish\nimport numpy as np\nimport matplotlib.pyplot as plt\nfrom mpl_toolkits.mplot3d import Axes3D\nfrom matplotlib.animation import FuncAnimation\n\n# 1. Paletka tuzish\n# Paletka parametrlari\ndensity = 2500  # Zichlik (kg/m^3)\nwidth = 2.0     # Paletkaning kengligi (m)\nheight = 1.0    # Paletkaning balandligi (m)\ndepth = 0.5     # Paletkaning qalinligi (m)\nz_position = 1.0  # Paletkaning balandligi (m)\n\n# Paletkaning massasi\nmass = density * width * height * depth  # kg\nprint(f\"Paletkaning massasi: {mass:.2f} kg\")\n\n# 2. Gravitatsion anomaliyalarni hisoblash\n# Gravitatsion konstant\nG = 6.67430e-11  # m^3/(kg*s^2)\n\n# Gravitatsion anomaliyani hisoblash funksiyasi\ndef gravitational_anomaly(x, y, z, x_center, y_center, z_center, mass):\n    dx = x - x_center\n    dy = y - y_center\n    dz = z - z_center\n    r_squared = dx**2 + dy**2 + dz**2\n    r_squared[r_squared == 0] = 1e-12  # Nolga bo‘linishni oldini olish\n    g = G * mass / r_squared\n    return g\n\n# 2D grid yaratish (x-y tekisligi)\nx = np.linspace(-10, 10, 100)\ny = np.linspace(-10, 10, 100)\nX, Y = np.meshgrid(x, y)\nZ = np.zeros_like(X)  # Pastki balandlik uchun z=0\n\n# Anomaliya balandlikda\ng_anomaly_ground = gravitational_anomaly(X, Y, Z, 0, 0, z_position, mass)\n\n# 3D grid (yuqoriga davom ettirish uchun)\nZ_high = np.linspace(0, 10, 100)  # Balandlik intervali\ng_anomaly_high = np.array([\n    gravitational_anomaly(X, Y, Z + z, 0, 0, z_position, mass)\n    for z in Z_high\n])\n\n# 3. 2D grafik chizish\nplt.figure(figsize=(8, 6))\nplt.contourf(X, Y, g_anomaly_ground, levels=50, cmap='viridis')\nplt.colorbar(label='Gravitatsion anomaliya (N)')\nplt.title('2D Gravitatsion Anomaliya (z = 0)')\nplt.xlabel('X (m)')\nplt.ylabel('Y (m)')\nplt.grid()\nplt.show()\n\n# 4. 3D grafik chizish\nfig = plt.figure(figsize=(10, 8))\nax = fig.add_subplot(111, projection='3d')\n\nfor i, z in enumerate(Z_high[::10]):\n    ax.plot_surface(X, Y, g_anomaly_high[i], cmap='plasma', edgecolor='k', alpha=0.5)\n\nax.set_title('3D Gravitatsion Anomaliya (yuqoriga davom ettirish)')\nax.set_xlabel('X (m)')\nax.set_ylabel('Y (m)')\nax.set_zlabel('Gravitatsion anomaliya (N)')\nplt.show()\n\n# 5. Animatsiya: Yuqoriga analitik davom ettirish\nfig, ax = plt.subplots(figsize=(8, 6))\nax.set_xlim(-10, 10)\nax.set_ylim(-10, 10)\n\ncontour = ax.contourf(X, Y, g_anomaly_ground, levels=50, cmap='viridis')\ncbar = plt.colorbar(contour, ax=ax)\ncbar.set_label('Gravitatsion anomaliya (N)')\nax.set_title('Gravitatsion Anomaliya Animatsiyasi')\nax.set_xlabel('X (m)')\nax.set_ylabel('Y (m)')\n\ndef update(frame):\n    ax.clear()\n    contour = ax.contourf(X, Y, g_anomaly_high[frame], levels=50, cmap='viridis')\n    ax.set_title(f'Balandlik = {Z_high[frame]:.2f} m')\n    return contour\n\nani = FuncAnimation(fig, update, frames=len(Z_high), blit=False)\nplt.show()\n\n# Natijalarni tahlil qilish\nprint(\"Gravitatsion anomaliya yuqoriga davom ettirish jarayonida kamayishini kuzatish mumkin.\")\n",
      "metadata": {
        "trusted": true
      },
      "outputs": [],
      "execution_count": null
    }
  ]
}